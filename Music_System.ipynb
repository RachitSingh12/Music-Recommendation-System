{
  "cells": [
    {
      "cell_type": "markdown",
      "metadata": {
        "id": "CCC6y2KVl55j"
      },
      "source": [
        "    A Music Recommendation System is an application of Data Science that aims to assist users in discovering new and relevant musical content based on their preferences and listening behaviour. Personalized music recommendations have become an essential tool in the digital music landscape, enabling music streaming platforms like Spotify and Apple Music to offer personalized and engaging experiences to their users. If you want to learn how to build a music recommendation system, this article is for you. In this article, I’ll take you through building a Music Recommendation System using Spotify API and Python.\n",
        "\n",
        "    How Does a Music Recommendation System Work?\n",
        "    Music Recommendation Systems operate through intricate algorithms that analyze vast amounts of data about users’ musical interactions, such as their listening history, liked tracks, skipped songs, and even explicit user preferences conveyed through ratings or feedback. These data points are instrumental in constructing comprehensive user profiles, delineating individual tastes and preferences.\n",
        "\n",
        "    In the initial phase, the system employs various data preprocessing techniques to cleanse and organize the information efficiently. Subsequently, the system uses recommendation algorithms, such as collaborative filtering, content-based filtering, and hybrid approaches, to generate music recommendations.\n",
        "\n",
        "    As users continually interact with the system, it accumulates additional data, refining and updating their profiles in real time. Consequently, the recommendations become increasingly precise and aligned with the user’s evolving musical preferences.\n",
        "\n",
        "    What is Spotify API & How to build a Music Recommendation System using Spotify API?\n",
        "    The Spotify API is a set of rules and protocols provided by Spotify developers. It enables developers to interact with Spotify’s vast music catalogue and collect music-related data. Through the Spotify API, developers can access information such as tracks, albums, artists, playlists, user profiles, and play history, among other features, empowering them to build innovative applications and services that integrate seamlessly with the Spotify platform.\n",
        "\n",
        "    To build a Music Recommendation System using the Spotify API, we are required to collect real-time music data from Spotify. For this task, we need a Spotify developer account to get our credentials from Spotify to access their data.\n",
        "\n",
        "    Below is the process you can follow to sign up for the Spotify developer account and get your credentials."
      ]
    },
    {
      "cell_type": "code",
      "execution_count": 1,
      "metadata": {
        "execution": {
          "iopub.execute_input": "2024-04-13T10:35:59.964867Z",
          "iopub.status.busy": "2024-04-13T10:35:59.963684Z",
          "iopub.status.idle": "2024-04-13T10:36:00.015412Z",
          "shell.execute_reply": "2024-04-13T10:36:00.013902Z",
          "shell.execute_reply.started": "2024-04-13T10:35:59.964823Z"
        },
        "colab": {
          "base_uri": "https://localhost:8080/"
        },
        "id": "eGoL-54ul55n",
        "outputId": "57d16697-d1b2-4ad2-a8ee-ba8368496dd1"
      },
      "outputs": [
        {
          "output_type": "stream",
          "name": "stdout",
          "text": [
            "Access token obtained successfully.\n"
          ]
        }
      ],
      "source": [
        "import requests\n",
        "import base64\n",
        "\n",
        "# Replace with your own Client ID and Client Secret\n",
        "CLIENT_ID = 'b453ac4d567d4d50915c4af23b96f579'\n",
        "CLIENT_SECRET = '5658997a4775420e8e09919f53e64dee'\n",
        "\n",
        "# Base64 encode the client ID and client secret\n",
        "client_credentials = f\"{CLIENT_ID}:{CLIENT_SECRET}\"\n",
        "client_credentials_base64 = base64.b64encode(client_credentials.encode())\n",
        "\n",
        "# Request the access token\n",
        "token_url = 'https://accounts.spotify.com/api/token'\n",
        "headers = {\n",
        "    'Authorization': f'Basic {client_credentials_base64.decode()}'\n",
        "}\n",
        "data = {\n",
        "    'grant_type': 'client_credentials'\n",
        "}\n",
        "response = requests.post(token_url, data=data, headers=headers)\n",
        "\n",
        "if response.status_code == 200:\n",
        "    access_token = response.json()['access_token']\n",
        "    print(\"Access token obtained successfully.\")\n",
        "else:\n",
        "    print(\"Error obtaining access token.\")\n",
        "    exit()"
      ]
    },
    {
      "cell_type": "markdown",
      "metadata": {
        "id": "D01kEZx9l55p"
      },
      "source": [
        "    In the above code, The CLIENT_ID and CLIENT_SECRET variables hold my credentials (you need to add your credentials in these variables) that uniquely identify the application making requests to the Spotify API. These credentials are obtained when a developer registers their application with Spotify’s developer dashboard. The Client ID identifies the application, while the Client Secret is a confidential key used for authentication.\n",
        "\n",
        "    The client ID and secret are combined in the client_credentials variable, separated by a colon (:). Then, this string is encoded using Base64 encoding to create a secure representation of the credentials. We then proceed to request an access token from the Spotify API.\n",
        "\n",
        "    It sends a POST request to the token_url (https://accounts.spotify.com/api/token) with the client credentials in the Authorization header, which is required for client authentication. The grant_type parameter is set to ‘client_credentials’ to indicate that the application is requesting an access token for the client credentials flow.\n",
        "\n",
        "    With the access token, the application can now make authorized requests to retrieve music data, such as tracks, albums, artists, and user information, which is fundamental for building a music recommendation system using the Spotify API and Python.\n",
        "\n",
        "    Now, I’ll write a function to get music data from any playlist on Spotify. For this task, you need to install the Spotipy library, which is a Python library providing access to Spotify’s web API. Here’s how to install it on your system by writing the command mentioned below in your command prompt or terminal:"
      ]
    },
    {
      "cell_type": "code",
      "execution_count": 2,
      "metadata": {
        "execution": {
          "iopub.execute_input": "2024-04-13T10:36:00.020675Z",
          "iopub.status.busy": "2024-04-13T10:36:00.020272Z",
          "iopub.status.idle": "2024-04-13T10:36:10.379594Z",
          "shell.execute_reply": "2024-04-13T10:36:10.378558Z",
          "shell.execute_reply.started": "2024-04-13T10:36:00.020643Z"
        },
        "colab": {
          "base_uri": "https://localhost:8080/"
        },
        "id": "-CTAtQf1l55q",
        "outputId": "5b80ff94-7305-40df-b40b-7dedd3883429"
      },
      "outputs": [
        {
          "output_type": "stream",
          "name": "stdout",
          "text": [
            "Requirement already satisfied: spotipy in /root/.local/lib/python3.10/site-packages (2.24.0)\n",
            "Requirement already satisfied: redis>=3.5.3 in /root/.local/lib/python3.10/site-packages (from spotipy) (5.0.8)\n",
            "Requirement already satisfied: requests>=2.25.0 in /usr/local/lib/python3.10/dist-packages (from spotipy) (2.32.3)\n",
            "Requirement already satisfied: urllib3>=1.26.0 in /usr/local/lib/python3.10/dist-packages (from spotipy) (2.0.7)\n",
            "Requirement already satisfied: async-timeout>=4.0.3 in /usr/local/lib/python3.10/dist-packages (from redis>=3.5.3->spotipy) (4.0.3)\n",
            "Requirement already satisfied: charset-normalizer<4,>=2 in /usr/local/lib/python3.10/dist-packages (from requests>=2.25.0->spotipy) (3.3.2)\n",
            "Requirement already satisfied: idna<4,>=2.5 in /usr/local/lib/python3.10/dist-packages (from requests>=2.25.0->spotipy) (3.10)\n",
            "Requirement already satisfied: certifi>=2017.4.17 in /usr/local/lib/python3.10/dist-packages (from requests>=2.25.0->spotipy) (2024.8.30)\n"
          ]
        }
      ],
      "source": [
        "!pip install spotipy"
      ]
    },
    {
      "cell_type": "markdown",
      "metadata": {
        "id": "W2cQ1eerl55q"
      },
      "source": [
        "## Creating DataFrame"
      ]
    },
    {
      "cell_type": "code",
      "execution_count": 3,
      "metadata": {
        "execution": {
          "iopub.execute_input": "2024-04-13T10:36:10.381129Z",
          "iopub.status.busy": "2024-04-13T10:36:10.380828Z",
          "iopub.status.idle": "2024-04-13T10:36:10.394651Z",
          "shell.execute_reply": "2024-04-13T10:36:10.393550Z",
          "shell.execute_reply.started": "2024-04-13T10:36:10.381104Z"
        },
        "id": "Yq_2UF2Gl55q"
      },
      "outputs": [],
      "source": [
        "import pandas as pd\n",
        "import spotipy\n",
        "from spotipy.oauth2 import SpotifyOAuth\n",
        "\n",
        "def get_trending_playlist_data(playlist_id, access_token):\n",
        "    # Set up Spotipy with the access token\n",
        "    sp = spotipy.Spotify(auth=access_token)\n",
        "\n",
        "    # Get the tracks from the playlist\n",
        "    playlist_tracks = sp.playlist_tracks(playlist_id, fields='items(track(id, name, artists, album(id, name)))')\n",
        "\n",
        "    # Extract relevant information and store in a list of dictionaries\n",
        "    music_data = []\n",
        "    for track_info in playlist_tracks['items']:\n",
        "        track = track_info['track']\n",
        "        track_name = track['name']\n",
        "        artists = ', '.join([artist['name'] for artist in track['artists']])\n",
        "        album_name = track['album']['name']\n",
        "        album_id = track['album']['id']\n",
        "        track_id = track['id']\n",
        "\n",
        "        # Get audio features for the track\n",
        "        audio_features = sp.audio_features(track_id)[0] if track_id != 'Not available' else None\n",
        "\n",
        "        # Get release date of the album\n",
        "        try:\n",
        "            album_info = sp.album(album_id) if album_id != 'Not available' else None\n",
        "            release_date = album_info['release_date'] if album_info else None\n",
        "        except:\n",
        "            release_date = None\n",
        "\n",
        "        # Get popularity of the track\n",
        "        try:\n",
        "            track_info = sp.track(track_id) if track_id != 'Not available' else None\n",
        "            popularity = track_info['popularity'] if track_info else None\n",
        "        except:\n",
        "            popularity = None\n",
        "\n",
        "        # Add additional track information to the track data\n",
        "        track_data = {\n",
        "            'Track Name': track_name,\n",
        "            'Artists': artists,\n",
        "            'Album Name': album_name,\n",
        "            'Album ID': album_id,\n",
        "            'Track ID': track_id,\n",
        "            'Popularity': popularity,\n",
        "            'Release Date': release_date,\n",
        "            'Duration (ms)': audio_features['duration_ms'] if audio_features else None,\n",
        "            'Explicit': track_info.get('explicit', None),\n",
        "            'External URLs': track_info.get('external_urls', {}).get('spotify', None),\n",
        "            'Danceability': audio_features['danceability'] if audio_features else None,\n",
        "            'Energy': audio_features['energy'] if audio_features else None,\n",
        "            'Key': audio_features['key'] if audio_features else None,\n",
        "            'Loudness': audio_features['loudness'] if audio_features else None,\n",
        "            'Mode': audio_features['mode'] if audio_features else None,\n",
        "            'Speechiness': audio_features['speechiness'] if audio_features else None,\n",
        "            'Acousticness': audio_features['acousticness'] if audio_features else None,\n",
        "            'Instrumentalness': audio_features['instrumentalness'] if audio_features else None,\n",
        "            'Liveness': audio_features['liveness'] if audio_features else None,\n",
        "            'Valence': audio_features['valence'] if audio_features else None,\n",
        "            'Tempo': audio_features['tempo'] if audio_features else None,\n",
        "            # Add more attributes as needed\n",
        "        }\n",
        "\n",
        "        music_data.append(track_data)\n",
        "\n",
        "    # Create a pandas DataFrame from the list of dictionaries\n",
        "    df = pd.DataFrame(music_data)\n",
        "\n",
        "    return df"
      ]
    },
    {
      "cell_type": "markdown",
      "metadata": {
        "id": "NUtJWYDll55r"
      },
      "source": [
        "    The function begins by initializing the Spotipy client with the provided access_token, which serves as the authentication token to interact with the Spotify Web API. The access_token allows the function to make authorized requests to access Spotify’s resources. The function then uses the Spotipy client to fetch information about the tracks in the specified playlist (identified by its playlist_id). The sp.playlist_tracks method retrieves the playlist tracks. The fields parameter is used to specify the specific track information that is required, such as track ID, name, artists, album ID, and album name.\n",
        "\n",
        "    The function then extracts relevant information from the retrieved playlist tracks and stores it in a list of dictionaries called music_data. For each track in the playlist, the function extracts data such as track name, artists (combined into a single string), album name, album ID, track ID, and popularity. The function uses the sp.audio_features method to fetch audio features for each track in the playlist. These audio features include attributes like danceability, energy, key, loudness, speechiness, acousticness, instrumentalness, liveness, valence, tempo, etc. These audio features provide insights into the characteristics of each track.\n",
        "\n",
        "    The extracted information for all tracks is stored in the music_data list. The function then creates a DataFrame from the music_data list. The DataFrame organizes the music data in a tabular format, making it easier to analyze and work with the collected information.\n",
        "\n",
        "    Now, here’s how we can use the function to collect music data from any playlist on Spotify:"
      ]
    },
    {
      "cell_type": "markdown",
      "metadata": {
        "id": "GgEKOb3il55r"
      },
      "source": [
        "## Choosing Playlist"
      ]
    },
    {
      "cell_type": "code",
      "execution_count": 12,
      "metadata": {
        "execution": {
          "iopub.execute_input": "2024-04-13T10:36:10.397949Z",
          "iopub.status.busy": "2024-04-13T10:36:10.397593Z",
          "iopub.status.idle": "2024-04-13T10:36:37.277804Z",
          "shell.execute_reply": "2024-04-13T10:36:37.276614Z",
          "shell.execute_reply.started": "2024-04-13T10:36:10.397921Z"
        },
        "colab": {
          "base_uri": "https://localhost:8080/"
        },
        "id": "KcQapEBwl55r",
        "outputId": "deb737ef-bd23-4c7c-df72-ce85d373ded8"
      },
      "outputs": [
        {
          "output_type": "stream",
          "name": "stdout",
          "text": [
            "                                       Track Name  \\\n",
            "0                                       Sadi Gali   \n",
            "1                                  Chammak Challo   \n",
            "2                                 Bom Diggy Diggy   \n",
            "3                                      Hookah Bar   \n",
            "4                                   Badtameez Dil   \n",
            "..                                            ...   \n",
            "95               O Saki Saki (From \"Batla House\")   \n",
            "96   Illegal Weapon 2.0 (From \"Street Dancer 3D\")   \n",
            "97                                         Gulabi   \n",
            "98              Bombay Dreams (feat. Kavita Seth)   \n",
            "99  Main Teri Ho Gayi (From \"Sardar Ka Grandson\")   \n",
            "\n",
            "                                              Artists  \\\n",
            "0                                 Lehmber Hussainpuri   \n",
            "1                                  Akon, Hamsika Iyer   \n",
            "2                           Zack Knight, Jasmin Walia   \n",
            "3       Himesh Reshammiya, Vineet Singh, Aaman Trikha   \n",
            "4                Pritam, Benny Dayal, Shefali Alvares   \n",
            "..                                                ...   \n",
            "95  Neha Kakkar, Tulsi Kumar, B Praak, Tanishk Bag...   \n",
            "96  Jasmine Sandlas, Garry Sandhu, Tanishk Bagchi,...   \n",
            "97  Sachin-Jigar, Jigar Saraiya, Priya Saraiya, Ja...   \n",
            "98                   KSHMR, Lost Stories, Kavita Seth   \n",
            "99         Millind Gaba, Pallavi Gaba, Tanishk Bagchi   \n",
            "\n",
            "                                         Album Name                Album ID  \\\n",
            "0                                    Tanu Weds Manu  5R0EsoxxqsmxdJEuM1JPFd   \n",
            "1                                            Ra-One  5x2eTJrbEvmOTEcWWWubLy   \n",
            "2   Bom Diggy Diggy (From \"Sonu Ke Titu Ki Sweety\")  3tOA9zT2Kg5lPln6oQcLfZ   \n",
            "3                                       Khiladi 786  5BoZm7cUUN5BpcXrNk1Z0v   \n",
            "4                           Yeh Jawaani Hai Deewani  2Lxoc72vRTGdQfMvj7Ovi1   \n",
            "..                                              ...                     ...   \n",
            "95                 O Saki Saki (From \"Batla House\")  0te1B7RLmSG29MBoj0cKzq   \n",
            "96     Illegal Weapon 2.0 (From \"Street Dancer 3D\")  7LwW8qe6sND4ySnKmdZacl   \n",
            "97                              Shuddh Desi Romance  1rrjdhGZe4vVjwxJETqQbK   \n",
            "98                Bombay Dreams (feat. Kavita Seth)  5EyIytU4jYrTCuf8Xy49M3   \n",
            "99    Main Teri Ho Gayi (From \"Sardar Ka Grandson\")  1XqE6jLX8WToxQx5CtGJhz   \n",
            "\n",
            "                  Track ID  Popularity Release Date  Duration (ms)  Explicit  \\\n",
            "0   1tEto4JrqNmBZFH5uAiYqb          61   2011-02-02         264900     False   \n",
            "1   0EH7sgeiFqDa3eS7ieW2zs          73   2011-09-16         227091     False   \n",
            "2   6qCNaRRr5xJALfNJvh0NAw          64   2018-02-08         238530     False   \n",
            "3   4AoQVhME8Ko6LNm4lV2wwQ          69   2012-10-30         254351     False   \n",
            "4   4eu27jAU2bbnyHUC3G75U8          66   2013-03-30         252760     False   \n",
            "..                     ...         ...          ...            ...       ...   \n",
            "95  4cFwhwH5ydnHgB0Tv3lZsm          62   2019-07-15         191089     False   \n",
            "96  5fXslGZPI5Cco6PKHzlSL3          65   2020-01-04         188606     False   \n",
            "97  22kRCQPyNXWZSQEcDvCmGD          64   2013-08-22         230661     False   \n",
            "98  4SlCYFaUQ8GRuwdpgniaGF          49   2019-09-13         198462     False   \n",
            "99  11KXv9ONlSsFCLe2crzvMi          41   2021-05-04         176552     False   \n",
            "\n",
            "                                        External URLs  ...  Energy  Key  \\\n",
            "0   https://open.spotify.com/track/1tEto4JrqNmBZFH...  ...   0.994    5   \n",
            "1   https://open.spotify.com/track/0EH7sgeiFqDa3eS...  ...   0.879    0   \n",
            "2   https://open.spotify.com/track/6qCNaRRr5xJALfN...  ...   0.827   11   \n",
            "3   https://open.spotify.com/track/4AoQVhME8Ko6LNm...  ...   0.656   11   \n",
            "4   https://open.spotify.com/track/4eu27jAU2bbnyHU...  ...   0.932    2   \n",
            "..                                                ...  ...     ...  ...   \n",
            "95  https://open.spotify.com/track/4cFwhwH5ydnHgB0...  ...   0.961   10   \n",
            "96  https://open.spotify.com/track/5fXslGZPI5Cco6P...  ...   0.919    1   \n",
            "97  https://open.spotify.com/track/22kRCQPyNXWZSQE...  ...   0.663    4   \n",
            "98  https://open.spotify.com/track/4SlCYFaUQ8GRuwd...  ...   0.821    5   \n",
            "99  https://open.spotify.com/track/11KXv9ONlSsFCLe...  ...   0.495    0   \n",
            "\n",
            "    Loudness  Mode  Speechiness  Acousticness  Instrumentalness  Liveness  \\\n",
            "0     -2.433     0       0.0543       0.02100          0.010800    0.2220   \n",
            "1     -4.274     0       0.0328       0.06960          0.000007    0.0981   \n",
            "2     -4.219     0       0.0627       0.15900          0.000000    0.2260   \n",
            "3     -5.070     1       0.0294       0.00797          0.002710    0.1080   \n",
            "4     -2.228     0       0.0684       0.24000          0.000000    0.2160   \n",
            "..       ...   ...          ...           ...               ...       ...   \n",
            "95    -0.155     0       0.0747       0.16300          0.000000    0.3610   \n",
            "96    -1.294     1       0.0938       0.10100          0.003430    0.0598   \n",
            "97   -10.026     1       0.0446       0.06480          0.000018    0.1170   \n",
            "98    -4.743     0       0.0466       0.01940          0.017600    0.0815   \n",
            "99    -7.220     1       0.0537       0.68200          0.000000    0.1240   \n",
            "\n",
            "    Valence    Tempo  \n",
            "0     0.779  129.989  \n",
            "1     0.936  133.946  \n",
            "2     0.498  104.032  \n",
            "3     0.743  131.040  \n",
            "4     0.792  106.021  \n",
            "..      ...      ...  \n",
            "95    0.567  108.014  \n",
            "96    0.494   94.993  \n",
            "97    0.678  124.002  \n",
            "98    0.458  103.998  \n",
            "99    0.394  173.926  \n",
            "\n",
            "[100 rows x 21 columns]\n"
          ]
        }
      ],
      "source": [
        "playlist_id = '4DeO3A8DxKtJmGSn7GGhjx' #That's the top 100 popular songs on Spotify\n",
        "# Call the function to get the music data from the playlist and store it in a DataFrame\n",
        "music_df = get_trending_playlist_data(playlist_id, access_token)\n",
        "\n",
        "# Display the DataFrame\n",
        "print(music_df)"
      ]
    },
    {
      "cell_type": "markdown",
      "metadata": {
        "id": "oUGOHnPel55s"
      },
      "source": [
        "    You can also add your playlist id here. If your playlist link is (https://open.spotify.com/playlist/5ABHKGoOzxkaa28ttQV9sE), the playlist ID is “5ABHKGoOzxkaa28ttQV9sE”, which is what you would replace with my playlist id within the above code snippet.\n",
        "\n",
        "    Now let’s check if the data has any null values or not:\n",
        "    "
      ]
    },
    {
      "cell_type": "code",
      "execution_count": 13,
      "metadata": {
        "execution": {
          "iopub.execute_input": "2024-04-13T10:36:37.279182Z",
          "iopub.status.busy": "2024-04-13T10:36:37.278853Z",
          "iopub.status.idle": "2024-04-13T10:36:37.287431Z",
          "shell.execute_reply": "2024-04-13T10:36:37.286222Z",
          "shell.execute_reply.started": "2024-04-13T10:36:37.279155Z"
        },
        "colab": {
          "base_uri": "https://localhost:8080/"
        },
        "id": "xTouUwx4l55s",
        "outputId": "5a847fbc-0d00-4b1c-fa2a-6bc9bcaf5e25"
      },
      "outputs": [
        {
          "output_type": "stream",
          "name": "stdout",
          "text": [
            "Track Name          0\n",
            "Artists             0\n",
            "Album Name          0\n",
            "Album ID            0\n",
            "Track ID            0\n",
            "Popularity          0\n",
            "Release Date        0\n",
            "Duration (ms)       0\n",
            "Explicit            0\n",
            "External URLs       0\n",
            "Danceability        0\n",
            "Energy              0\n",
            "Key                 0\n",
            "Loudness            0\n",
            "Mode                0\n",
            "Speechiness         0\n",
            "Acousticness        0\n",
            "Instrumentalness    0\n",
            "Liveness            0\n",
            "Valence             0\n",
            "Tempo               0\n",
            "dtype: int64\n",
            "dropping NA values\n",
            "Track Name          0\n",
            "Artists             0\n",
            "Album Name          0\n",
            "Album ID            0\n",
            "Track ID            0\n",
            "Popularity          0\n",
            "Release Date        0\n",
            "Duration (ms)       0\n",
            "Explicit            0\n",
            "External URLs       0\n",
            "Danceability        0\n",
            "Energy              0\n",
            "Key                 0\n",
            "Loudness            0\n",
            "Mode                0\n",
            "Speechiness         0\n",
            "Acousticness        0\n",
            "Instrumentalness    0\n",
            "Liveness            0\n",
            "Valence             0\n",
            "Tempo               0\n",
            "dtype: int64\n"
          ]
        }
      ],
      "source": [
        "print(music_df.isnull().sum())\n",
        "music_df = music_df.dropna()\n",
        "print(\"dropping NA values\")\n",
        "print(music_df.isnull().sum())"
      ]
    },
    {
      "cell_type": "markdown",
      "metadata": {
        "id": "joMcXb2el55s"
      },
      "source": [
        "## Tunning Features for Recommendations"
      ]
    },
    {
      "cell_type": "code",
      "execution_count": 14,
      "metadata": {
        "execution": {
          "iopub.execute_input": "2024-04-13T10:36:37.288730Z",
          "iopub.status.busy": "2024-04-13T10:36:37.288450Z",
          "iopub.status.idle": "2024-04-13T10:36:37.298843Z",
          "shell.execute_reply": "2024-04-13T10:36:37.297527Z",
          "shell.execute_reply.started": "2024-04-13T10:36:37.288706Z"
        },
        "id": "B0uIDRgil55t"
      },
      "outputs": [],
      "source": [
        "import pandas as pd\n",
        "import numpy as np\n",
        "from sklearn.model_selection import train_test_split\n",
        "from sklearn.preprocessing import MinMaxScaler\n",
        "from datetime import datetime\n",
        "from sklearn.metrics.pairwise import cosine_similarity\n",
        "\n",
        "data = music_df"
      ]
    },
    {
      "cell_type": "markdown",
      "metadata": {
        "id": "RljOL-Sdl55t"
      },
      "source": [
        "    While providing music recommendations to users, it is important to recommend the latest releases. For this, we need to give more weight to the latest releases in the recommendations. Let’s write a function to solve this problem:"
      ]
    },
    {
      "cell_type": "code",
      "execution_count": 15,
      "metadata": {
        "execution": {
          "iopub.execute_input": "2024-04-13T10:36:37.300526Z",
          "iopub.status.busy": "2024-04-13T10:36:37.300229Z",
          "iopub.status.idle": "2024-04-13T10:36:37.311688Z",
          "shell.execute_reply": "2024-04-13T10:36:37.310017Z",
          "shell.execute_reply.started": "2024-04-13T10:36:37.300502Z"
        },
        "id": "8OHXxUful55t"
      },
      "outputs": [],
      "source": [
        "# Function to calculate weighted popularity scores based on release date\n",
        "def calculate_weighted_popularity(release_date):\n",
        "    # Convert the release date to datetime object\n",
        "    release_date = datetime.strptime(release_date, '%Y-%m-%d')\n",
        "\n",
        "    # Calculate the time span between release date and today's date\n",
        "    time_span = datetime.now() - release_date\n",
        "\n",
        "    # Calculate the weighted popularity score based on time span (e.g., more recent releases have higher weight)\n",
        "    weight = 1 / (time_span.days + 1)\n",
        "    return weight"
      ]
    },
    {
      "cell_type": "markdown",
      "metadata": {
        "id": "kejw-KN-l55t"
      },
      "source": [
        "    The above function takes the release date of a music track as input, which is provided in the format ‘YYYY-MM-DD’. It then uses the datetime.strptime function from the Python datetime module to convert the release date string to a datetime object. This conversion allows us to perform arithmetic operations with dates. The function then calculates the time span between the release date of the track and the current date (today’s date) using datetime.now() – release_date. This results in a timedelta object representing the time difference between the two dates.\n",
        "\n",
        "    The weighted popularity score is computed based on the time span. The formula to calculate the weight is 1 / (time_span.days + 1). The time_span.days attribute of the timedelta object gives the number of days in the time span between the release date and today. Adding 1 to the number of days ensures that the weight is never zero, even for very recent releases, as this would lead to a division by zero error.\n",
        "\n",
        "    The idea behind this formula is that the weight decreases as the time span between the release date and today increases. More recent releases will have a higher weight, while older releases will have a lower weight. As a result, when combining this weighted popularity score with other factors in a recommendation system, recent tracks will have a more significant impact on the final recommendations, reflecting users’ potential interest in newer music.\n",
        "\n",
        "    Now let’s normalize the music features before moving forward:"
      ]
    },
    {
      "cell_type": "code",
      "execution_count": 16,
      "metadata": {
        "execution": {
          "iopub.execute_input": "2024-04-13T10:36:37.313705Z",
          "iopub.status.busy": "2024-04-13T10:36:37.313036Z",
          "iopub.status.idle": "2024-04-13T10:36:37.330971Z",
          "shell.execute_reply": "2024-04-13T10:36:37.329740Z",
          "shell.execute_reply.started": "2024-04-13T10:36:37.313663Z"
        },
        "id": "kc8tNeOMl55u"
      },
      "outputs": [],
      "source": [
        "# Normalize the music features using Min-Max scaling\n",
        "scaler = MinMaxScaler()\n",
        "music_features = music_df[['Danceability', 'Energy', 'Key',\n",
        "                           'Loudness', 'Mode', 'Speechiness', 'Acousticness',\n",
        "                           'Instrumentalness', 'Liveness', 'Valence', 'Tempo']].values\n",
        "music_features_scaled = scaler.fit_transform(music_features)"
      ]
    },
    {
      "cell_type": "markdown",
      "metadata": {
        "id": "A-pFyhSPl55u"
      },
      "source": [
        "    We will create a hybrid recommendation system for music recommendations. The first approach will be based on recommending music based on music audio features, and the second approach will be based on recommending music based on weighted popularity.\n",
        "\n",
        "    Here’s how to generate music recommendations based on the music audio features:"
      ]
    },
    {
      "cell_type": "code",
      "execution_count": 17,
      "metadata": {
        "execution": {
          "iopub.execute_input": "2024-04-13T10:36:37.332719Z",
          "iopub.status.busy": "2024-04-13T10:36:37.332419Z",
          "iopub.status.idle": "2024-04-13T10:36:37.340823Z",
          "shell.execute_reply": "2024-04-13T10:36:37.339667Z",
          "shell.execute_reply.started": "2024-04-13T10:36:37.332694Z"
        },
        "id": "RqYLWrral55u"
      },
      "outputs": [],
      "source": [
        "# a function to get content-based recommendations based on music features\n",
        "def content_based_recommendations(input_song_name, num_recommendations=5):\n",
        "    if input_song_name not in music_df['Track Name'].values:\n",
        "        print(f\"'{input_song_name}' not found in the dataset. Please enter a valid song name.\")\n",
        "        return\n",
        "\n",
        "    # Get the index of the input song in the music DataFrame\n",
        "    input_song_index = music_df[music_df['Track Name'] == input_song_name].index[0]\n",
        "\n",
        "    # Calculate the similarity scores based on music features (cosine similarity)\n",
        "    similarity_scores = cosine_similarity([music_features_scaled[input_song_index]], music_features_scaled)\n",
        "\n",
        "    # Get the indices of the most similar songs\n",
        "    similar_song_indices = similarity_scores.argsort()[0][::-1][1:num_recommendations + 1]\n",
        "\n",
        "    # Get the names of the most similar songs based on content-based filtering\n",
        "    content_based_recommendations = music_df.iloc[similar_song_indices][['Track Name', 'Artists', 'Album Name', 'Release Date', 'Popularity']]\n",
        "\n",
        "    return content_based_recommendations"
      ]
    },
    {
      "cell_type": "markdown",
      "metadata": {
        "id": "i4NWtJ-Cl55u"
      },
      "source": [
        "    The above function takes input_song_name as the input, which represents the name of the song for which recommendations are to be generated. The function checks if the input_song_name exists in the music_df DataFrame, which presumably contains the music data with features like ‘Track Name’, ‘Artists’, ‘Album Name’, ‘Release Date’, and ‘Popularity’. If the input song name is found in the music_df DataFrame, the function retrieves the index of the input song in the DataFrame. This index will be used to compare the audio features of the input song with other songs in the dataset.\n",
        "\n",
        "    The function calculates the similarity scores between the audio features of the input song and all other songs in the dataset. It uses cosine similarity, a common measure used in content-based filtering. The cosine_similarity function from scikit-learn is employed to compute these similarity scores.\n",
        "\n",
        "    The function identifies the num_recommendations most similar songs to the input song based on their audio features. It does this by sorting the similarity scores in descending order and selecting the top num_recommendations songs. The input song itself is excluded from the recommendations (hence the [1:num_recommendations + 1] slicing). The function then extracts the details (such as track name, artists, album name, release date, and popularity) of the most similar songs from the music_df DataFrame using the indices of the most similar songs.\n",
        "\n",
        "    Now here’s the function to generate music recommendations based on weighted popularity and combine it with the recommendations of the content-based filtering method using the hybrid approach:"
      ]
    },
    {
      "cell_type": "code",
      "execution_count": 18,
      "metadata": {
        "execution": {
          "iopub.execute_input": "2024-04-13T10:36:37.344432Z",
          "iopub.status.busy": "2024-04-13T10:36:37.344099Z",
          "iopub.status.idle": "2024-04-13T10:36:37.357161Z",
          "shell.execute_reply": "2024-04-13T10:36:37.355712Z",
          "shell.execute_reply.started": "2024-04-13T10:36:37.344407Z"
        },
        "id": "t8ALrF9-l55v"
      },
      "outputs": [],
      "source": [
        "def hybrid_recommendations(input_song_name, num_recommendations=5, alpha=0.5):\n",
        "    if input_song_name not in music_df['Track Name'].values:\n",
        "        print(f\"'{input_song_name}' not found in the dataset. Please enter a valid song name.\")\n",
        "        return\n",
        "\n",
        "    # Get content-based recommendations\n",
        "    content_based_rec = content_based_recommendations(input_song_name, num_recommendations)\n",
        "\n",
        "    # Get the popularity score of the input song\n",
        "    popularity_score = music_df.loc[music_df['Track Name'] == input_song_name, 'Popularity'].values[0]\n",
        "\n",
        "    # Calculate the weighted popularity score\n",
        "    weighted_popularity_score = popularity_score * calculate_weighted_popularity(music_df.loc[music_df['Track Name'] == input_song_name, 'Release Date'].values[0])\n",
        "\n",
        "    # Create a DataFrame for the input song\n",
        "    input_song_data = {\n",
        "        'Track Name': [input_song_name],\n",
        "        'Artists': [music_df.loc[music_df['Track Name'] == input_song_name, 'Artists'].values[0]],\n",
        "        'Album Name': [music_df.loc[music_df['Track Name'] == input_song_name, 'Album Name'].values[0]],\n",
        "        'Release Date': [music_df.loc[music_df['Track Name'] == input_song_name, 'Release Date'].values[0]],\n",
        "        'Popularity': [weighted_popularity_score]\n",
        "    }\n",
        "    input_song_df = pd.DataFrame(input_song_data)\n",
        "\n",
        "    # Concatenate the input song DataFrame with content-based recommendations\n",
        "    hybrid_recommendations = pd.concat([content_based_rec, input_song_df], ignore_index=True)\n",
        "\n",
        "    # Sort the hybrid recommendations based on weighted popularity score\n",
        "    hybrid_recommendations = hybrid_recommendations.sort_values(by='Popularity', ascending=False)\n",
        "\n",
        "    # Remove the input song from the recommendations\n",
        "    hybrid_recommendations = hybrid_recommendations[hybrid_recommendations['Track Name'] != input_song_name]\n",
        "\n",
        "    return hybrid_recommendations"
      ]
    },
    {
      "cell_type": "markdown",
      "metadata": {
        "id": "GSOnkOdSl55v"
      },
      "source": [
        "    The hybrid approach aims to provide more personalized and relevant recommendations by considering both the content similarity of songs and their weighted popularity. The function takes input_song_name as the input, representing the name of the song for which recommendations are to be generated. The function first calls the content_based_recommendations function to get content-based recommendations for the input song. The num_recommendations parameter determines the number of content-based recommendations to be retrieved.\n",
        "\n",
        "    The function calculates the popularity score of the input song by retrieving the popularity value from the music_df DataFrame. It also calculates the weighted popularity score using the calculate_weighted_popularity function (previously defined) based on the release date of the input song. The alpha parameter controls the relative importance of content-based and popularity-based recommendations.\n",
        "\n",
        "    The content-based recommendations obtained earlier are stored in the content_based_rec DataFrame. The function combines the content-based recommendations with the input song’s information (track name, artists, album name, release date, and popularity) and its weighted popularity score. This step creates a DataFrame named hybrid_recommendations that includes both the content-based recommendations and the input song’s data.\n",
        "\n",
        "    The hybrid_recommendations DataFrame is then sorted in descending order based on the weighted popularity score. This step ensures that the most popular and relevant songs appear at the top of the recommendations. The input song is then removed from the recommendations to avoid suggesting the same song as part of the recommendations.\n",
        "\n",
        "    Now here’s how we can test the final function to generate music recommendations:"
      ]
    },
    {
      "cell_type": "markdown",
      "metadata": {
        "id": "eUE0-rYul55v"
      },
      "source": [
        "## Recommendation Song List"
      ]
    },
    {
      "cell_type": "code",
      "execution_count": 20,
      "metadata": {
        "execution": {
          "iopub.execute_input": "2024-04-13T10:36:37.359561Z",
          "iopub.status.busy": "2024-04-13T10:36:37.358514Z",
          "iopub.status.idle": "2024-04-13T10:36:37.380748Z",
          "shell.execute_reply": "2024-04-13T10:36:37.379360Z",
          "shell.execute_reply.started": "2024-04-13T10:36:37.359525Z"
        },
        "colab": {
          "base_uri": "https://localhost:8080/"
        },
        "id": "tR5VbI6ul55v",
        "outputId": "dd48fcbc-a509-4f10-9d6a-dd0bf315b7ae"
      },
      "outputs": [
        {
          "output_type": "stream",
          "name": "stdout",
          "text": [
            "Hybrid recommended songs for 'Hookah Bar':\n",
            "                                   Track Name                                                            Artists                                           Album Name Release Date  Popularity\n",
            "                             Dard - E - Disco               Sukhwinder Singh, Marianne, Nisha, Caralisa Monteiro                                         Om Shanti Om   2007-09-18        63.0\n",
            "                                    Desi Girl Vishal-Shekhar, Shankar Mahadevan, Sunidhi Chauhan, Vishal Dadlani         Dostana (Original Motion Picture Soundtrack)   2008-10-08        63.0\n",
            "                                Patakha Guddi                                              Sultana, Jyoti Nooran                                              Highway   2014-01-22        60.0\n",
            "Hasina Pagal Deewani (From \"Indoo Ki Jawani\")                                             Mika Singh, Asees Kaur        Hasina Pagal Deewani (From \"Indoo Ki Jawani\")   2020-09-16        42.0\n",
            "                                 Bhare Bazaar                     Rishi Rich, Badshah, Vishal Dadlani, Payal Dev Namaste England (Original Motion Picture Soundtrack)   2018-10-03        40.0\n"
          ]
        }
      ],
      "source": [
        "input_song_name = \"Hookah Bar\"\n",
        "recommendations = hybrid_recommendations(input_song_name, num_recommendations=5)\n",
        "print(f\"Hybrid recommended songs for '{input_song_name}':\")\n",
        "print(recommendations.to_string(index=False))"
      ]
    },
    {
      "cell_type": "markdown",
      "metadata": {
        "id": "81NKx8vml55w"
      },
      "source": [
        "    The name of the song should be in the playlist you put to generate recommendations. Also, it will recommend you songs only in the same playlist"
      ]
    }
  ],
  "metadata": {
    "kaggle": {
      "accelerator": "none",
      "dataSources": [
        {
          "datasetId": 1800580,
          "sourceId": 2936818,
          "sourceType": "datasetVersion"
        },
        {
          "datasetId": 1495083,
          "sourceId": 2469778,
          "sourceType": "datasetVersion"
        },
        {
          "datasetId": 1720572,
          "sourceId": 2814420,
          "sourceType": "datasetVersion"
        },
        {
          "datasetId": 3668746,
          "sourceId": 6367938,
          "sourceType": "datasetVersion"
        },
        {
          "sourceId": 82565779,
          "sourceType": "kernelVersion"
        }
      ],
      "dockerImageVersionId": 30684,
      "isGpuEnabled": false,
      "isInternetEnabled": true,
      "language": "python",
      "sourceType": "notebook"
    },
    "kernelspec": {
      "display_name": "Python 3 (ipykernel)",
      "language": "python",
      "name": "python3"
    },
    "language_info": {
      "codemirror_mode": {
        "name": "ipython",
        "version": 3
      },
      "file_extension": ".py",
      "mimetype": "text/x-python",
      "name": "python",
      "nbconvert_exporter": "python",
      "pygments_lexer": "ipython3",
      "version": "3.10.0"
    },
    "colab": {
      "provenance": []
    }
  },
  "nbformat": 4,
  "nbformat_minor": 0
}